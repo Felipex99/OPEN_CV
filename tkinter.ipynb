{
 "cells": [
  {
   "cell_type": "markdown",
   "metadata": {},
   "source": [
    "<h2>TESTANDO O TKINTER</h2>"
   ]
  },
  {
   "cell_type": "code",
   "execution_count": 2,
   "metadata": {},
   "outputs": [],
   "source": [
    "import tkinter\n",
    "tkinter._test()"
   ]
  },
  {
   "cell_type": "code",
   "execution_count": 14,
   "metadata": {},
   "outputs": [],
   "source": [
    "from tkinter import*\n",
    "from tkinter import ttk\n",
    "def calculate(*args):\n",
    "    try:\n",
    "        value = float(pe.get())\n",
    "        metros.set(int(0.3048 * value * 10000 + 0.5)/10000)\n",
    "    except ValueError:\n",
    "        pass \n",
    "#CONFIGURANDO A APLICAÇÃO PRINCIPAL\n",
    "root = Tk()\n",
    "root.title(\"INTERFACE OPENCV\")\n",
    "#AGORA VAMOS CRIAR O FRAME E O SEU CONTEÚDO\n",
    "mainframe = ttk.Frame(root, padding = \"30 30 30 40\")\n",
    "mainframe.grid(column = 0, row = 0, sticky = (N , W, E, S)) #sticky são os constraints, entao o frame vai se apregar em toda a janela\n",
    "#O FRAME FOI CRIADO, AGORA É CONFIGURAR AS LINHAS E COLUNAS DESSE FRAME\n",
    "root.columnconfigure(0 , weight = 1)\n",
    "root.rowconfigure(0, weight = 1)\n",
    "#DEPOIS QUE O FRAME FOI CRIADO, O GRID COLOCA O FRAME DIRETAMENTE DENTRO DA SUA JANELA DE APLICAÇÃO. A \n",
    "# columnconfigure/rowconfigure DIZ AO TKINTER QUE O FRAME DEVE EXPANDIR PARA PREENCHER QUALQUER ESPAÇO SE A JANELA É RESCALADA\n",
    "#CRIANDO UM COMPONENTE DE ENTRADA\n",
    "pe = StringVar()\n",
    "tamanho = IntVar()\n",
    "pe_entry = ttk.Entry(mainframe, width = 7,textvariable=pe) #A largura do width é em caracteres, entao tem 7 caracteres de largura\n",
    "pe_entry.grid(column=2,row=1,sticky=(W, E))\n",
    "#NESTA ETAPA PRECISAMOS DE DUAS COISAS, CRIAR O UTILITÁRIO ttk.Entry e colocá-lo na tela, dispor\n",
    "# QUANDO CRIAMOS UM WIDGET ELES NÃO APARECEM AUTOMATICAMENTE NA TELA. TK NÃO SAVE ONDE VOCE DESEJA POSICIONÁ-LO RELATIVAMENTE A OUTROS\n",
    "# WIDGETS. PARA ISSO QUE O GRID SERVE, OS WIDGETS SÃO COLOCADOS NOS COLUMNS 1,2,3 E ROWS 1, 2, 3\n",
    "# A OPCAO STICKY TO GRID DESCREVE COMO O WIDGET DEVE SE ALINHAR DENTRO DA CÉLULA DA GRADE BASICAMENTE O CONSTRAINT DO JAVA\n",
    "# CRIANDO O RESTANTE DOS WIDGETS\n",
    "# AGORA FAZEMOS EXATAMENTE A MESMA COISA PARA O RESTO. TEMOS UM RÓTULO QUE EXIBE O RESULTADO DO NÚMERO DE METROS QUE CALCULAMOS;\n",
    "# TEMOS UM BOTÃO \"CALCULAR\" QUE EXECUTARÁ A FUNÇÃO. E FINANLMENTE UM TEXTO ESTÁTICO QUE ENSINA COMO USAR A APLICAÇÃO\n",
    "metros = StringVar()\n",
    "ttk.Label(mainframe, textvariable=metros).grid(column = 2, row = 2, sticky = (W, E))\n",
    "ttk.Button(mainframe, text = \"CALCULAR CONVERSÃO\", command = calculate).grid(column = 3, row = 3,sticky= W)\n",
    "ttk.Label(mainframe, text = \"Pé\").grid(column=3, row = 1, sticky=W)\n",
    "ttk.Label(mainframe, text = \"O RESULTADO É EQUIVALENTE A \").grid(column =1,row = 2,sticky=(E))\n",
    "ttk.Label(mainframe, text = \"METROS\").grid(column = 3,row = 2, sticky=(W))\n",
    "#ADICIONANDO POLIMENTO \n",
    "for child in mainframe.winfo_children():\n",
    "    child.grid_configure(padx=50,pady=5)\n",
    "pe_entry.focus()\n",
    "root.bind(\"<Return>\",calculate)\n",
    "#PERCORREMOS OS FILHOS DO MAINFRAME, PEGANDO OS WIDGETS, E OS SEPARAMOS PARA QUE NÃO FIQUEM COLADOS UNS NOS OUTROS\n",
    "#A OUTRA PARTE DIZ AO TK TER FOCO NA ENTRADA, ENTÃO O CURSOR VAI FICAR NO INPUT, WIDGET ESCOLHINDO.\n",
    "#A ÚLTIMA LINHA DIZ AO TK QUE SE O USUÁRIO DIGITAR A TECLA DE RETORNO(ENTER NO WINDOWS), IRÁ CALCULAR NOSSA ROTINA, DO MESMO JEITO SE APERTAR O BOTÃO\n",
    "\n",
    "#COMEÇANDO O LOOP DA APLICAÇÃO\n",
    "root.mainloop()"
   ]
  },
  {
   "cell_type": "code",
   "execution_count": 1,
   "metadata": {},
   "outputs": [],
   "source": [
    "from tkinter import *\n",
    "from tkinter import ttk\n",
    "from PIL import Image,ImageTk\n",
    "\n",
    "def calculate(*args):\n",
    "    try:\n",
    "        value = float(feet.get())\n",
    "        meters.set(int(0.3048 * value * 10000.0 + 0.5)/10000.0)\n",
    "    except ValueError:\n",
    "        pass\n",
    "root = Tk()\n",
    "root.title(\"Feet to Meters\")\n",
    "#antes = Image.open(\"6g.png\")\n",
    "\n",
    "#antes = antes.resize((50,50),Image.ADAPTIVE).save(\"im_pequena.png\",\"PNG\")\n",
    "\n",
    "depois = PhotoImage(file=\"im_pequena.png\")\n",
    "mainframe = ttk.Frame(root, padding=\"3 3 12 12\")\n",
    "mainframe.grid(column=0, row=0, sticky=(N, W, E, S))\n",
    "root.columnconfigure(0, weight=1)\n",
    "root.rowconfigure(0, weight=1)\n",
    "\n",
    "feet = StringVar()\n",
    "feet_entry = ttk.Entry(mainframe, width=7, textvariable=feet)\n",
    "feet_entry.grid(column=2, row=1, sticky=(W, E))\n",
    "\n",
    "meters = StringVar()\n",
    "ttk.Label(mainframe, textvariable=meters).grid(column=2, row=2, sticky=(W, E))\n",
    "\n",
    "ttk.Button(mainframe, text=\"Calculate\",image = depois, command=calculate).grid(column=3, row=3, sticky=W)\n",
    "\n",
    "ttk.Label(mainframe, text=\"feet\").grid(column=3, row=1, sticky=W)\n",
    "ttk.Label(mainframe, text=\"is equivalent to\").grid(column=1, row=2, sticky=E)\n",
    "ttk.Label(mainframe, text=\"meters\").grid(column=3, row=2, sticky=W)\n",
    "\n",
    "for child in mainframe.winfo_children(): \n",
    "    child.grid_configure(padx=8, pady=8)\n",
    "\n",
    "feet_entry.focus()\n",
    "root.bind(\"<Return>\", calculate)\n",
    "root.mainloop()"
   ]
  },
  {
   "cell_type": "code",
   "execution_count": 50,
   "metadata": {},
   "outputs": [
    {
     "ename": "KeyboardInterrupt",
     "evalue": "",
     "output_type": "error",
     "traceback": [
      "\u001b[1;31m---------------------------------------------------------------------------\u001b[0m",
      "\u001b[1;31mKeyboardInterrupt\u001b[0m                         Traceback (most recent call last)",
      "Cell \u001b[1;32mIn[50], line 30\u001b[0m\n\u001b[0;32m     27\u001b[0m text\u001b[38;5;241m=\u001b[39m Label(win, text\u001b[38;5;241m=\u001b[39m \u001b[38;5;124m\"\u001b[39m\u001b[38;5;124mCRICA\u001b[39m\u001b[38;5;124m\"\u001b[39m)\n\u001b[0;32m     28\u001b[0m text\u001b[38;5;241m.\u001b[39mpack(pady\u001b[38;5;241m=\u001b[39m\u001b[38;5;241m30\u001b[39m)\n\u001b[1;32m---> 30\u001b[0m \u001b[43mwin\u001b[49m\u001b[38;5;241;43m.\u001b[39;49m\u001b[43mmainloop\u001b[49m\u001b[43m(\u001b[49m\u001b[43m)\u001b[49m\n",
      "File \u001b[1;32mc:\\Users\\DELL\\AppData\\Local\\Programs\\Python\\Python311\\Lib\\tkinter\\__init__.py:1485\u001b[0m, in \u001b[0;36mMisc.mainloop\u001b[1;34m(self, n)\u001b[0m\n\u001b[0;32m   1483\u001b[0m \u001b[38;5;28;01mdef\u001b[39;00m \u001b[38;5;21mmainloop\u001b[39m(\u001b[38;5;28mself\u001b[39m, n\u001b[38;5;241m=\u001b[39m\u001b[38;5;241m0\u001b[39m):\n\u001b[0;32m   1484\u001b[0m \u001b[38;5;250m    \u001b[39m\u001b[38;5;124;03m\"\"\"Call the mainloop of Tk.\"\"\"\u001b[39;00m\n\u001b[1;32m-> 1485\u001b[0m     \u001b[38;5;28mself\u001b[39m\u001b[38;5;241m.\u001b[39mtk\u001b[38;5;241m.\u001b[39mmainloop(n)\n",
      "\u001b[1;31mKeyboardInterrupt\u001b[0m: "
     ]
    },
    {
     "ename": "",
     "evalue": "",
     "output_type": "error",
     "traceback": [
      "\u001b[1;31mThe Kernel crashed while executing code in the current cell or a previous cell. \n",
      "\u001b[1;31mPlease review the code in the cell(s) to identify a possible cause of the failure. \n",
      "\u001b[1;31mClick <a href='https://aka.ms/vscodeJupyterKernelCrash'>here</a> for more info. \n",
      "\u001b[1;31mView Jupyter <a href='command:jupyter.viewOutput'>log</a> for further details."
     ]
    }
   ],
   "source": [
    "#Import all the necessary libraries\n",
    "from tkinter import *\n",
    "\n",
    "#Define the tkinter instance\n",
    "win= Toplevel()\n",
    "win.title(\"Rounded Button\")\n",
    "\n",
    "#Define the size of the tkinter frame\n",
    "win.geometry(\"700x300\")\n",
    "\n",
    "#Define the working of the button\n",
    "\n",
    "def my_command():\n",
    "   text.config(text= \"You have clicked Me...\")\n",
    "\n",
    "#Import the image using PhotoImage function\n",
    "click_btn= PhotoImage(file='im_pequena.png')\n",
    "\n",
    "#Let us create a label for button event\n",
    "img_label= Label(image=click_btn)\n",
    "\n",
    "#Let us create a dummy button and pass the image\n",
    "button= Button(win, image=click_btn,command= my_command,\n",
    "borderwidth=0)\n",
    "button.pack(pady=30)\n",
    "\n",
    "text= Label(win, text= \"CRICA\")\n",
    "text.pack(pady=30)\n",
    "\n",
    "win.mainloop()"
   ]
  },
  {
   "cell_type": "code",
   "execution_count": null,
   "metadata": {},
   "outputs": [],
   "source": []
  }
 ],
 "metadata": {
  "kernelspec": {
   "display_name": "Python 3",
   "language": "python",
   "name": "python3"
  },
  "language_info": {
   "codemirror_mode": {
    "name": "ipython",
    "version": 3
   },
   "file_extension": ".py",
   "mimetype": "text/x-python",
   "name": "python",
   "nbconvert_exporter": "python",
   "pygments_lexer": "ipython3",
   "version": "3.11.3"
  }
 },
 "nbformat": 4,
 "nbformat_minor": 2
}
