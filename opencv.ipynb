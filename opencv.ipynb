{
 "cells": [
  {
   "cell_type": "markdown",
   "metadata": {},
   "source": [
    "<h3><b>CRIANDO A PASTA ASSETS E BAIXANDO IMAGENS E VÍDEOS<b></h3>"
   ]
  },
  {
   "cell_type": "code",
   "execution_count": 1,
   "metadata": {},
   "outputs": [
    {
     "name": "stdout",
     "output_type": "stream",
     "text": [
      "PASTA assets CRIADA COM IMAGENS\n"
     ]
    }
   ],
   "source": [
    "#voltar nos diretorios os.chdir(\"../\")\n",
    "import os\n",
    "import pytube\n",
    "from urllib.request import urlretrieve\n",
    "nome_pasta = \"assets\"\n",
    "URL_gato_img = \"https://upload.wikimedia.org/wikipedia/commons/6/64/Collage_of_Six_Cats-02.jpg\"\n",
    "URL_video_gato = \"https://youtube.com/shorts/VB9h9sTatNk?si=F3YBSAAX-ua5K0jR\"\n",
    "URL_cachorro_img = \"https://blog.petkie.pet/wp-content/uploads/2022/09/Racas-de-cachorro-guia-completo-das-racas.jpg\"\n",
    "URL_video_cachorro = \"https://youtube.com/shorts/yLYag4UJZ-4?si=nv9P4RUCxuYdDo2i\"\n",
    "URL_videos = {\n",
    "    \"video_gato.mp4\" : \"https://youtube.com/shorts/VB9h9sTatNk?si=F3YBSAAX-ua5K0jR\",\n",
    "    \"video_cachorro.mp4\" : \"https://youtube.com/shorts/yLYag4UJZ-4?si=nv9P4RUCxuYdDo2i\"\n",
    "}\n",
    "if(not os.path.exists(nome_pasta)):\n",
    "    os.mkdir(nome_pasta)\n",
    "    os.chdir(nome_pasta)\n",
    "    urlretrieve(URL_gato_img,\"imagem_6_gatos.jpg\")\n",
    "    urlretrieve(URL_cachorro_img,\"imagem_5_cachorros.jpg\")\n",
    "    for nome,url in URL_videos.items():\n",
    "        video = pytube.YouTube(url).streams.get_highest_resolution()\n",
    "        video.download(os.getcwd(),nome)\n",
    "    print(f\"PASTA {nome_pasta} CRIADA COM IMAGENS E VÍDEOS\")\n",
    "else:\n",
    "    os.remove(nome_pasta)\n",
    "    print(f\"PASTA {nome_pasta} JÁ FOI CRIADA\")\n",
    "os.chdir(\"C:/Users/DELL/Documents/Projetos de IA/OPEN_CV\")"
   ]
  },
  {
   "cell_type": "markdown",
   "metadata": {},
   "source": [
    "<h3><b>LENDO IMAGENS COM O OPENCV<b></h3>"
   ]
  },
  {
   "cell_type": "code",
   "execution_count": null,
   "metadata": {},
   "outputs": [],
   "source": []
  },
  {
   "cell_type": "code",
   "execution_count": null,
   "metadata": {},
   "outputs": [],
   "source": [
    "import cv2 as cv\n",
    "import matplotlib.pyplot as plt\n",
    "import matplotlib.image as mbim\n",
    "dog = cv.imread(\"C:/Users/DELL/Documents/Projetos de IA/Open_CV/assets/imagem_5_cachorros.jpg\")\n",
    "cv.imshow(\"DOG\",dog)\n",
    "cv.waitKey(0)\n",
    "# img = mbim.imread('C:/Users/DELL/Documents/Projetos de IA/OPEN_CV/assets/imagem_5_cachorros.jpg')\n",
    "# plt.imshow(img)\n",
    "# plt.show()\n",
    "# plt.imshow('assets/imagem_5_cachorros.jpg')\n",
    "# dog = cv.imread('assets/imagem_5_cachorros.jpg')\n",
    "# cv.imshow('DOG',0dog)\n",
    "# cv.waitKey(0)"
   ]
  },
  {
   "cell_type": "code",
   "execution_count": null,
   "metadata": {},
   "outputs": [],
   "source": []
  }
 ],
 "metadata": {
  "kernelspec": {
   "display_name": "Python 3",
   "language": "python",
   "name": "python3"
  },
  "language_info": {
   "codemirror_mode": {
    "name": "ipython",
    "version": 3
   },
   "file_extension": ".py",
   "mimetype": "text/x-python",
   "name": "python",
   "nbconvert_exporter": "python",
   "pygments_lexer": "ipython3",
   "version": "3.11.3"
  }
 },
 "nbformat": 4,
 "nbformat_minor": 2
}
