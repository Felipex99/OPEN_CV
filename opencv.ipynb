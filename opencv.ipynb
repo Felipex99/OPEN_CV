{
 "cells": [
  {
   "cell_type": "markdown",
   "metadata": {},
   "source": [
    "<h3><b>CRIANDO A PASTA ASSETS E BAIXANDO IMAGENS E VÍDEOS<b></h3>"
   ]
  },
  {
   "cell_type": "code",
   "execution_count": 1,
   "metadata": {},
   "outputs": [
    {
     "name": "stdout",
     "output_type": "stream",
     "text": [
      "PASTA assets CRIADA COM IMAGENS\n"
     ]
    }
   ],
   "source": [
    "#voltar nos diretorios os.chdir(\"../\")\n",
    "import os\n",
    "import pytube\n",
    "from urllib.request import urlretrieve\n",
    "nome_pasta = \"assets\"\n",
    "URL_gato_img = \"https://upload.wikimedia.org/wikipedia/commons/6/64/Collage_of_Six_Cats-02.jpg\"\n",
    "URL_video_gato = \"https://youtube.com/shorts/VB9h9sTatNk?si=F3YBSAAX-ua5K0jR\"\n",
    "URL_cachorro_img = \"https://blog.petkie.pet/wp-content/uploads/2022/09/Racas-de-cachorro-guia-completo-das-racas.jpg\"\n",
    "URL_video_cachorro = \"https://youtube.com/shorts/yLYag4UJZ-4?si=nv9P4RUCxuYdDo2i\"\n",
    "URL_videos = {\n",
    "    \"video_gato.mp4\" : \"https://youtube.com/shorts/VB9h9sTatNk?si=F3YBSAAX-ua5K0jR\",\n",
    "    \"video_cachorro.mp4\" : \"https://youtube.com/shorts/yLYag4UJZ-4?si=nv9P4RUCxuYdDo2i\"\n",
    "}\n",
    "if(not os.path.exists(nome_pasta)):\n",
    "    os.mkdir(nome_pasta)\n",
    "    os.chdir(nome_pasta)\n",
    "    urlretrieve(URL_gato_img,\"imagem_6_gatos.jpg\")\n",
    "    urlretrieve(URL_cachorro_img,\"imagem_5_cachorros.jpg\")\n",
    "    for nome,url in URL_videos.items():\n",
    "        video = pytube.YouTube(url).streams.get_highest_resolution()\n",
    "        video.download(os.getcwd(),nome)\n",
    "    print(f\"PASTA {nome_pasta} CRIADA COM IMAGENS E VÍDEOS\")\n",
    "else:\n",
    "    print(f\"PASTA {nome_pasta} JÁ FOI CRIADA\")\n",
    "os.chdir(\"C:/Users/DELL/Documents/Projetos de IA/OPEN_CV\")"
   ]
  },
  {
   "cell_type": "markdown",
   "metadata": {},
   "source": [
    "<h3><b>LENDO IMAGENS COM O OPENCV<b></h3>"
   ]
  },
  {
   "cell_type": "code",
   "execution_count": null,
   "metadata": {},
   "outputs": [],
   "source": []
  },
  {
   "cell_type": "code",
   "execution_count": null,
   "metadata": {},
   "outputs": [],
   "source": [
    "import cv2 as cv\n",
    "import matplotlib.pyplot as plt\n",
    "import matplotlib.image as mbim\n",
    "dog = cv.imread(\"C:/Users/DELL/Documents/Projetos de IA/Open_CV/assets/imagem_5_cachorros.jpg\")\n",
    "cv.imshow(\"DOG\",dog)\n",
    "cv.waitKey(0)\n",
    "# img = mbim.imread('C:/Users/DELL/Documents/Projetos de IA/OPEN_CV/assets/imagem_5_cachorros.jpg')\n",
    "# plt.imshow(img)\n",
    "# plt.show()\n",
    "# plt.imshow('assets/imagem_5_cachorros.jpg')\n",
    "# dog = cv.imread('assets/imagem_5_cachorros.jpg')\n",
    "# cv.imshow('DOG',0dog)\n",
    "# cv.waitKey(0)"
   ]
  },
  {
   "cell_type": "code",
   "execution_count": 3,
   "metadata": {},
   "outputs": [
    {
     "ename": "KeyboardInterrupt",
     "evalue": "",
     "output_type": "error",
     "traceback": [
      "\u001b[1;31m---------------------------------------------------------------------------\u001b[0m",
      "\u001b[1;31mKeyboardInterrupt\u001b[0m                         Traceback (most recent call last)",
      "Cell \u001b[1;32mIn[3], line 7\u001b[0m\n\u001b[0;32m      5\u001b[0m     _,frame \u001b[38;5;241m=\u001b[39m video\u001b[38;5;241m.\u001b[39mread()\n\u001b[0;32m      6\u001b[0m     time\u001b[38;5;241m+\u001b[39m\u001b[38;5;241m=\u001b[39m\u001b[38;5;241m1\u001b[39m\n\u001b[1;32m----> 7\u001b[0m     \u001b[38;5;28;01mif\u001b[39;00m(\u001b[43mcv\u001b[49m\u001b[38;5;241;43m.\u001b[39;49m\u001b[43mwaitKey\u001b[49m\u001b[43m(\u001b[49m\u001b[38;5;241;43m20\u001b[39;49m\u001b[43m)\u001b[49m \u001b[38;5;241m&\u001b[39m \u001b[38;5;241m0xFF\u001b[39m\u001b[38;5;241m==\u001b[39m\u001b[38;5;28mord\u001b[39m(\u001b[38;5;124m'\u001b[39m\u001b[38;5;124md\u001b[39m\u001b[38;5;124m'\u001b[39m)):\n\u001b[0;32m      8\u001b[0m         \u001b[38;5;28;01mbreak\u001b[39;00m\n\u001b[0;32m      9\u001b[0m cv\u001b[38;5;241m.\u001b[39mrelease()\n",
      "\u001b[1;31mKeyboardInterrupt\u001b[0m: "
     ]
    }
   ],
   "source": [
    "import cv2 as cv\n",
    "video = cv.VideoCapture(\"C:/Users/DELL/Documents/Projetos de IA/OPEN_CV/assets/video_gato.mp4\")\n",
    "time = 0\n",
    "while True:\n",
    "    _,frame = video.read()\n",
    "    time+=1\n",
    "    if(cv.waitKey(20) & 0xFF==ord('d')):\n",
    "        break\n",
    "cv.release()\n",
    "print(time)"
   ]
  },
  {
   "cell_type": "code",
   "execution_count": null,
   "metadata": {},
   "outputs": [],
   "source": [
    "d"
   ]
  }
 ],
 "metadata": {
  "kernelspec": {
   "display_name": "Python 3",
   "language": "python",
   "name": "python3"
  },
  "language_info": {
   "codemirror_mode": {
    "name": "ipython",
    "version": 3
   },
   "file_extension": ".py",
   "mimetype": "text/x-python",
   "name": "python",
   "nbconvert_exporter": "python",
   "pygments_lexer": "ipython3",
   "version": "3.11.3"
  }
 },
 "nbformat": 4,
 "nbformat_minor": 2
}
